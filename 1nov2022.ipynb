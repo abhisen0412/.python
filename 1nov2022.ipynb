{
 "cells": [
  {
   "cell_type": "code",
   "execution_count": 1,
   "id": "267af735",
   "metadata": {},
   "outputs": [
    {
     "name": "stdout",
     "output_type": "stream",
     "text": [
      "Enter first number: 22222\n",
      "Enter second number: 2222222\n",
      "Enter third number: 222222222\n",
      "The largest number is 222222222\n"
     ]
    }
   ],
   "source": [
    "num1 = int(input(\"Enter first number: \"))\n",
    "num2 = int(input(\"Enter second number: \"))\n",
    "num3 = int(input(\"Enter third number: \"))\n",
    " \n",
    "if (num1 > num2) and (num1 > num3):\n",
    "   largest = num1\n",
    "elif (num2 > num1) and (num2 > num3):\n",
    "   largest = num2\n",
    "else:\n",
    "   largest = num3\n",
    " \n",
    "print(\"The largest number is\",largest)"
   ]
  },
  {
   "cell_type": "code",
   "execution_count": 2,
   "id": "2b62e254",
   "metadata": {},
   "outputs": [
    {
     "name": "stdout",
     "output_type": "stream",
     "text": [
      "22\n",
      "24\n",
      "46\n"
     ]
    }
   ],
   "source": [
    "a=int(input())\n",
    "b=int(input())\n",
    "sum=a+b\n",
    "print(sum)"
   ]
  },
  {
   "cell_type": "code",
   "execution_count": 3,
   "id": "e514bc19",
   "metadata": {},
   "outputs": [
    {
     "name": "stdout",
     "output_type": "stream",
     "text": [
      "20\n",
      "50\n",
      "50\n"
     ]
    }
   ],
   "source": [
    "a=int(input())\n",
    "b=int(input())\n",
    "if(a>b):\n",
    "    print(a)\n",
    "else:\n",
    "    print(b)"
   ]
  },
  {
   "cell_type": "code",
   "execution_count": 6,
   "id": "e82b69c5",
   "metadata": {},
   "outputs": [
    {
     "name": "stdout",
     "output_type": "stream",
     "text": [
      "22\n",
      "32\n",
      "55\n",
      "greatest number is 55\n"
     ]
    }
   ],
   "source": [
    "n1=int(input())\n",
    "n2=int(input())\n",
    "n3=int(input())\n",
    "x=n1 if n2<n1>n3 else (n2 if (n1<n2>n3) else n3)\n",
    "print(\"greatest number is\",x)\n"
   ]
  },
  {
   "cell_type": "code",
   "execution_count": null,
   "id": "03b2485f",
   "metadata": {},
   "outputs": [],
   "source": []
  }
 ],
 "metadata": {
  "kernelspec": {
   "display_name": "Python 3 (ipykernel)",
   "language": "python",
   "name": "python3"
  },
  "language_info": {
   "codemirror_mode": {
    "name": "ipython",
    "version": 3
   },
   "file_extension": ".py",
   "mimetype": "text/x-python",
   "name": "python",
   "nbconvert_exporter": "python",
   "pygments_lexer": "ipython3",
   "version": "3.9.12"
  }
 },
 "nbformat": 4,
 "nbformat_minor": 5
}
